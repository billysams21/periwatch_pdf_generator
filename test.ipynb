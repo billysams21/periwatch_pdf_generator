{
 "cells": [
  {
   "cell_type": "code",
   "execution_count": 19,
   "id": "2bcc5869",
   "metadata": {},
   "outputs": [],
   "source": [
    "import requests\n",
    "\n",
    "# Get token\n",
    "token_url = \"http://127.0.0.1:8000/api/token/\"\n",
    "payload = {\"email\": \"gerald@supertype.ai\", \"password\": \"7fbe4d35c99d4ebd801d0b6270f723d8e64d9d1a9052ad4726845ba7aef7c4b7\"}\n",
    "resp = requests.post(token_url, json=payload)\n",
    "token = resp.json()[\"token\"]\n",
    "\n",
    "# Call protected endpoint\n",
    "headers = {\"Authorization\": f\"Bearer {token}\"}\n",
    "pdf_resp = requests.get(\"http://127.0.0.1:8000/api/generate-pdf/?email=gerald@supertype.ai\", headers=headers)\n",
    "\n",
    "with open(\"Periwatch Report.pdf\", \"wb\") as f:\n",
    "    f.write(pdf_resp.content)"
   ]
  },
  {
   "cell_type": "code",
   "execution_count": 16,
   "id": "3065e9e7",
   "metadata": {},
   "outputs": [
    {
     "data": {
      "text/plain": [
       "<Response [200]>"
      ]
     },
     "execution_count": 16,
     "metadata": {},
     "output_type": "execute_result"
    }
   ],
   "source": [
    "pdf_resp"
   ]
  },
  {
   "cell_type": "code",
   "execution_count": 10,
   "id": "26a0581c",
   "metadata": {},
   "outputs": [
    {
     "data": {
      "text/plain": [
       "'7fbe4d35c99d4ebd801d0b6270f723d8e64d9d1a9052ad4726845ba7aef7c4b7'"
      ]
     },
     "execution_count": 10,
     "metadata": {},
     "output_type": "execute_result"
    }
   ],
   "source": [
    "import os\n",
    "os.environ.get('PASSWORD')"
   ]
  },
  {
   "cell_type": "code",
   "execution_count": null,
   "id": "ede89ea0",
   "metadata": {},
   "outputs": [],
   "source": []
  }
 ],
 "metadata": {
  "kernelspec": {
   "display_name": "Python 3",
   "language": "python",
   "name": "python3"
  },
  "language_info": {
   "codemirror_mode": {
    "name": "ipython",
    "version": 3
   },
   "file_extension": ".py",
   "mimetype": "text/x-python",
   "name": "python",
   "nbconvert_exporter": "python",
   "pygments_lexer": "ipython3",
   "version": "3.10.2"
  }
 },
 "nbformat": 4,
 "nbformat_minor": 5
}
